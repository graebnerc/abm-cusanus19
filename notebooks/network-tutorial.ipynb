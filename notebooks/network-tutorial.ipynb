{
 "cells": [
  {
   "cell_type": "markdown",
   "metadata": {},
   "source": [
    "# Ein kurzes Tutorial zur Modellierung von Netzwerken in Python"
   ]
  },
  {
   "cell_type": "markdown",
   "metadata": {},
   "source": [
    "## Ressourcen zur Modellierung von Netzwerken\n",
    "\n",
    "Zur Modellierung und Analyse von Netzwerken in Python gibt es verschiedene Optionen.\n",
    "Netzwerke können einfach als Wörterbücher formalisiert werden, aber häufig ist es sinnvoller eine spezialisierte Library zu verwenden.\n",
    "Hier ist [graph-tool](https://www.google.com/search?client=firefox-b-d&q=graph+tool+python) eine sehr performante aber recht schwierig zu handelnde Möglichkeit ist [networkx](https://networkx.github.io/) eine sehr weit verbreitete aber etwas langsamere Variante.\n",
    "Ebenfalls beliebt ist [igraph](https://igraph.org/), das auch für R verfügbar ist und vor allem für die empirische Analyse verwendet wird. \n",
    "Eine andere Analyseumgebung ist [SNAP](https://snap.stanford.edu/snap/description.html), das auch zahlreiche Beispieldatensätze beinhaltet."
   ]
  },
  {
   "cell_type": "markdown",
   "metadata": {},
   "source": [
    "## Hinweise zur Umsetzung\n",
    "\n",
    "Die Konvention zum Import ist folgendermaßen:"
   ]
  },
  {
   "cell_type": "code",
   "execution_count": 1,
   "metadata": {},
   "outputs": [],
   "source": [
    "import networkx as nx"
   ]
  },
  {
   "cell_type": "code",
   "execution_count": null,
   "metadata": {},
   "outputs": [],
   "source": []
  }
 ],
 "metadata": {
  "kernelspec": {
   "display_name": "Python 3",
   "language": "python",
   "name": "python3"
  },
  "language_info": {
   "codemirror_mode": {
    "name": "ipython",
    "version": 3
   },
   "file_extension": ".py",
   "mimetype": "text/x-python",
   "name": "python",
   "nbconvert_exporter": "python",
   "pygments_lexer": "ipython3",
   "version": "3.7.4"
  }
 },
 "nbformat": 4,
 "nbformat_minor": 2
}
